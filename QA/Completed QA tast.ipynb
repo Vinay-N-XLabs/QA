{
 "cells": [
  {
   "cell_type": "code",
   "execution_count": 1,
   "id": "9e51b0d3-428a-46ca-887c-89b8b320146d",
   "metadata": {},
   "outputs": [],
   "source": [
    "#imports\n",
    "from selenium import webdriver\n",
    "from selenium.webdriver.common.by import By\n",
    "from selenium.webdriver.common.keys import Keys\n",
    "from selenium.webdriver.support.ui import WebDriverWait\n",
    "from selenium.webdriver.support import expected_conditions as EC\n",
    "from selenium.common.exceptions import NoSuchWindowException,TimeoutException\n",
    "from selenium.webdriver.common.action_chains import ActionChains\n",
    "import time"
   ]
  },
  {
   "cell_type": "code",
   "execution_count": 2,
   "id": "0f8d300f-d400-4755-8681-e9989539fbfb",
   "metadata": {},
   "outputs": [],
   "source": [
    "def open_browser():\n",
    "    global driver\n",
    "    driver=webdriver.Chrome()\n",
    "\n",
    "def get_website(websitename):\n",
    "    try:\n",
    "        driver.get(websitename)\n",
    "    except NoSuchWindowException:\n",
    "        print(\"Reopening window\")\n",
    "        open_browser()\n",
    "        driver.get(websitename)  \n",
    "def signin(phone):\n",
    "    sign_in_ele=WebDriverWait(driver, 10).until(\n",
    "        EC.element_to_be_clickable((By.XPATH, '//*[@id=\"id_a\"] | //*[@id=\":ra:\"]/div'))\n",
    "    )\n",
    "    sign_in_ele.click()\n",
    "    sign_in_personal=WebDriverWait(driver, 10).until(\n",
    "        EC.element_to_be_clickable((By.XPATH, '//*[@id=\"b_idProviders\"]/li[1]/a/span | //*[@id=\":r9:\"]/div/div[1]/button'))\n",
    "    )\n",
    "    sign_in_personal.click()\n",
    "    user=WebDriverWait(driver,10).until(\n",
    "    EC.element_to_be_clickable((By.XPATH,'//*[@id=\"i0116\"]'))\n",
    "    )\n",
    "    user.send_keys(phone)\n",
    "    user.send_keys(Keys.RETURN)\n",
    "def say():\n",
    "    try:\n",
    "        say_no=WebDriverWait(driver,15).until(\n",
    "    EC.element_to_be_clickable((By.XPATH,'//*[@id=\"declineButton\"]'))\n",
    "    )\n",
    "        say_no.click()\n",
    "    except TimeoutException:\n",
    "        print(\"That Other UI man\")\n",
    "        send_notification=WebDriverWait(driver,10).until(\n",
    "        EC.element_to_be_clickable((By.Xpath,'//*[@id=\"pageContent\"]/div/form/div[4]/div/div/div/button'))\n",
    "        )\n",
    "        send_notification.click()\n",
    "        say()"
   ]
  },
  {
   "cell_type": "code",
   "execution_count": 3,
   "id": "001e3a6f-e386-4367-8046-e23bc377ba57",
   "metadata": {},
   "outputs": [],
   "source": [
    "def message(query):\n",
    "    ans = []\n",
    "    messagebox=driver.find_element(By.XPATH,'//*[@id=\"userInput\"]')\n",
    "    \n",
    "    \n",
    "    for q in query:\n",
    "        messagebox.send_keys(q)\n",
    "        messagebox.send_keys(Keys.RETURN)\n",
    "        chat_reply=WebDriverWait(driver,10).until(\n",
    "        EC.element_to_be_clickable((By.XPATH,'//*[@id=\"app\"]/main/div[3]/div/div/div[2]/div[2]/div[2]/div/p/span | //*[@id=\"app\"]/main/div[3]/div/div/div[2]/div/div[2]/div/p/span'))\n",
    "        )\n",
    "        time.sleep(4)\n",
    "        ans.append(chat_reply.text)\n",
    "    \n",
    "    return ans"
   ]
  },
  {
   "cell_type": "code",
   "execution_count": 4,
   "id": "d5954298-a7aa-4d51-8f3e-d2eeb65f090c",
   "metadata": {},
   "outputs": [],
   "source": [
    "def messagebox():\n",
    "    parent1 = driver.find_element(By.CSS_SELECTOR, '#b_sydConvCont > cib-serp')\n",
    "    s1 = driver.execute_script(\"return arguments[0].shadowRoot\", parent1)\n",
    "    parent2 = s1.find_element(By.CSS_SELECTOR, 'cib-action-bar')\n",
    "    s2 = driver.execute_script(\"return arguments[0].shadowRoot\", parent2)\n",
    "    parent3 = s2.find_element(By.CSS_SELECTOR, 'div.main-container')\n",
    "    search_box = parent3.find_element(By.CSS_SELECTOR, 'cib-text-input')\n",
    "    s3 = driver.execute_script(\"return arguments[0].shadowRoot\", search_box)\n",
    "    global textbox\n",
    "    textbox = s3.find_element(By.CSS_SELECTOR, '#searchbox')\n",
    "    textbox.click()\n",
    "    #textbox.send_keys(\"Who is the father of india\")\n",
    "    return textbox"
   ]
  },
  {
   "cell_type": "code",
   "execution_count": 6,
   "id": "4388e53a-9b71-49ce-997c-7575a34f6aa2",
   "metadata": {},
   "outputs": [],
   "source": [
    "def answerbox1():\n",
    "    script = \"\"\"\n",
    "    const p1 = document.querySelector('#b_sydConvCont > cib-serp');\n",
    "    const s1 = p1.shadowRoot;\n",
    "    const p2 = s1.querySelector('#cib-conversation-main');\n",
    "    const s2 = p2.shadowRoot;\n",
    "    const p3 = s2.querySelector('#cib-chat-main');\n",
    "\n",
    "    // Collect all shadow roots and their host elements from each message group inside each chat turn\n",
    "    const shadowInfo = [];\n",
    "    const chatTurns = p3.querySelectorAll('cib-chat-turn');\n",
    "\n",
    "    chatTurns.forEach(turn => {\n",
    "        const turnShadowRoot = turn.shadowRoot;\n",
    "        if (turnShadowRoot) {\n",
    "            const messageGroups = turnShadowRoot.querySelectorAll('cib-message-group.response-message-group');\n",
    "            messageGroups.forEach(group => {\n",
    "                const groupShadowRoot = group.shadowRoot;\n",
    "                if (groupShadowRoot) {\n",
    "                    // Store both the host element and its shadow root\n",
    "                    shadowInfo.push({\n",
    "                        host: group, // The host element (cib-message-group)\n",
    "                        shadowRoot: groupShadowRoot\n",
    "                    });\n",
    "                }\n",
    "            });\n",
    "        }\n",
    "    });\n",
    "\n",
    "    // Return the array of shadow info (hosts and their shadow roots)\n",
    "    return shadowInfo;\n",
    "    \"\"\"\n",
    "    \n",
    "    # Execute the script in the context of the current page\n",
    "    shadow_info = driver.execute_script(script)\n",
    "\n",
    "    # Provide debug information about the number of shadow roots found\n",
    "    if not shadow_info or len(shadow_info) == 0:  # Use len() for Python\n",
    "        print(\"No shadow roots found in the specified structure.\")\n",
    "    else:\n",
    "        print(f\"Found {len(shadow_info)} shadow roots and their hosts.\")\n",
    "\n",
    "    return shadow_info\n"
   ]
  },
  {
   "cell_type": "code",
   "execution_count": 21,
   "id": "1ca6c193-f404-4cba-94b7-68e5fb5c109d",
   "metadata": {},
   "outputs": [],
   "source": [
    "def get_aria_label(shadow_info):\n",
    "    # Check if there are any shadow roots\n",
    "    if not shadow_info:\n",
    "        print(\"No shadow roots found.\")\n",
    "        return None\n",
    "\n",
    "    # Get the last shadow root and its corresponding host element\n",
    "    last_info = shadow_info[-1]  # This should be a dictionary with 'host' and 'shadowRoot'\n",
    "    last_host_element = last_info['host']\n",
    "\n",
    "    # Use JavaScript to access the shadow root from the host element and query for the cib-message element\n",
    "    script = \"\"\"\n",
    "    const hostElement = arguments[0];\n",
    "    const shadowRoot = hostElement.shadowRoot;\n",
    "    const messageElement = shadowRoot.querySelector('cib-message');\n",
    "    return messageElement ? messageElement.getAttribute('aria-label') : null;\n",
    "    \"\"\"\n",
    "\n",
    "    # Execute the script with the last host element\n",
    "    aria_label = driver.execute_script(script, last_host_element)\n",
    "\n",
    "    return aria_label\n"
   ]
  },
  {
   "cell_type": "code",
   "execution_count": 13,
   "id": "0926b378-0b03-444a-9ba0-41dcb48f06cb",
   "metadata": {},
   "outputs": [],
   "source": [
    "def reset_chat(driver):\n",
    "    actions = ActionChains(driver)\n",
    "    actions.key_down(Keys.CONTROL).send_keys('r').key_up(Keys.CONTROL).perform()\n",
    "    time.sleep(3)\n",
    "    shadow_info=answerbox(driver)\n",
    "    return shadow_info"
   ]
  },
  {
   "cell_type": "code",
   "execution_count": 30,
   "id": "08290fdf-c543-437a-b96f-b4c50521ade3",
   "metadata": {},
   "outputs": [],
   "source": [
    "def main():\n",
    "    global shadow_info\n",
    "    global driver\n",
    "    open_browser()\n",
    "    get_website(\"https://copilot.microsoft.com/\")\n",
    "    signin(9886449568)\n",
    "    say()\n",
    "    question1 = \"gandhi is the father of nation\"\n",
    "    paraphrased_question1=\"Indias father of nation is gandhi\"\n",
    "    comparision_query = 'Hey CoPiolot ill give you two questions can you give Me \"Yes they are similar and By % they are similar\" if they are similar if not then give \"no they are not similar because and reason if they are not similar\"'\n",
    "    textb=messagebox()\n",
    "    textb.send_keys(comparision_query)\n",
    "    textb.send_keys(Keys.RETURN)\n",
    "    time.sleep(4)\n",
    "    textb.send_keys(question1)\n",
    "    textb.send_keys(' \"and\" ')\n",
    "    textb.send_keys(paraphrased_question1)\n",
    "    textb.send_keys(Keys.RETURN)\n",
    "    time.sleep(4)\n",
    "    ansb=answerbox1()\n",
    "    label = get_aria_label(ansb)\n",
    "    return label"
   ]
  },
  {
   "cell_type": "code",
   "execution_count": 32,
   "id": "89236de4-8e1c-438a-bd69-63184eb44e3b",
   "metadata": {},
   "outputs": [
    {
     "name": "stdout",
     "output_type": "stream",
     "text": [
      "Found 2 shadow roots and their hosts.\n"
     ]
    },
    {
     "data": {
      "text/plain": [
       "'Sent by Copilot: Yes, they are similar. By 100%, they are similar.'"
      ]
     },
     "execution_count": 32,
     "metadata": {},
     "output_type": "execute_result"
    }
   ],
   "source": [
    "main()"
   ]
  },
  {
   "cell_type": "code",
   "execution_count": 31,
   "id": "93d8d8b4-ecb4-4cb3-87ff-7c6fcd9fc213",
   "metadata": {},
   "outputs": [],
   "source": [
    "driver.quit()"
   ]
  },
  {
   "cell_type": "code",
   "execution_count": 26,
   "id": "6e525f36-2e58-47ab-9cc2-2a9d3972e459",
   "metadata": {},
   "outputs": [
    {
     "name": "stdout",
     "output_type": "stream",
     "text": [
      "Found 1 shadow roots and their hosts.\n"
     ]
    }
   ],
   "source": [
    "ansb=answerbox1()"
   ]
  },
  {
   "cell_type": "code",
   "execution_count": 27,
   "id": "d8dc52cc-80cd-4522-b381-2ff4b185603f",
   "metadata": {},
   "outputs": [
    {
     "data": {
      "text/plain": [
       "\"Sent by Copilot: Sure, I'd be happy to help with that! Please go ahead and provide the two questions you'd like me to compare.\""
      ]
     },
     "execution_count": 27,
     "metadata": {},
     "output_type": "execute_result"
    }
   ],
   "source": [
    "get_aria_label(ansb)"
   ]
  },
  {
   "cell_type": "code",
   "execution_count": null,
   "id": "40f0e77c-315f-4dd5-b517-282dedc682e5",
   "metadata": {},
   "outputs": [],
   "source": []
  }
 ],
 "metadata": {
  "kernelspec": {
   "display_name": "Python 3 (ipykernel)",
   "language": "python",
   "name": "python3"
  },
  "language_info": {
   "codemirror_mode": {
    "name": "ipython",
    "version": 3
   },
   "file_extension": ".py",
   "mimetype": "text/x-python",
   "name": "python",
   "nbconvert_exporter": "python",
   "pygments_lexer": "ipython3",
   "version": "3.12.3"
  }
 },
 "nbformat": 4,
 "nbformat_minor": 5
}
