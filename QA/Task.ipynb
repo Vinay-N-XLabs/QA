{
 "cells": [
  {
   "cell_type": "code",
   "execution_count": 62,
   "id": "3b19c2bf-a832-4814-8bcc-798cf7831847",
   "metadata": {},
   "outputs": [],
   "source": [
    "#imports\n",
    "from selenium import webdriver\n",
    "from selenium.webdriver.common.by import By\n",
    "from selenium.webdriver.common.keys import Keys\n",
    "from selenium.webdriver.support.ui import WebDriverWait\n",
    "from selenium.webdriver.support import expected_conditions as EC\n",
    "from selenium.common.exceptions import NoSuchWindowException,TimeoutException\n",
    "import time"
   ]
  },
  {
   "cell_type": "code",
   "execution_count": 63,
   "id": "eeba9a0d-4881-4d53-953d-b388ad513d57",
   "metadata": {},
   "outputs": [],
   "source": [
    "def open_browser():\n",
    "    global driver\n",
    "    driver=webdriver.Chrome()\n",
    "\n",
    "def get_website(websitename):\n",
    "    try:\n",
    "        driver.get(websitename)\n",
    "    except NoSuchWindowException:\n",
    "        print(\"Reopening window\")\n",
    "        open_browser()\n",
    "        driver.get(websitename)  "
   ]
  },
  {
   "cell_type": "code",
   "execution_count": 64,
   "id": "f48065b4-56de-4f09-a5e4-2b9150935c55",
   "metadata": {},
   "outputs": [],
   "source": [
    "def signin(phone):\n",
    "    sign_in_ele=WebDriverWait(driver, 10).until(\n",
    "        EC.element_to_be_clickable((By.XPATH, '//*[@id=\"id_a\"] | //*[@id=\":ra:\"]/div'))\n",
    "    )\n",
    "    sign_in_ele.click()\n",
    "    sign_in_personal=WebDriverWait(driver, 10).until(\n",
    "        EC.element_to_be_clickable((By.XPATH, '//*[@id=\"b_idProviders\"]/li[1]/a/span | //*[@id=\":r9:\"]/div/div[1]/button'))\n",
    "    )\n",
    "    sign_in_personal.click()\n",
    "    user=WebDriverWait(driver,10).until(\n",
    "    EC.element_to_be_clickable((By.XPATH,'//*[@id=\"i0116\"]'))\n",
    "    )\n",
    "    user.send_keys(phone)\n",
    "    user.send_keys(Keys.RETURN)\n",
    "def say():\n",
    "    try:\n",
    "        say_no=WebDriverWait(driver,15).until(\n",
    "    EC.element_to_be_clickable((By.XPATH,'//*[@id=\"declineButton\"]'))\n",
    "    )\n",
    "        say_no.click()\n",
    "    except TimeoutException:\n",
    "        print(\"That Other UI man\")\n",
    "        send_notification=WebDriverWait(driver,10).until(\n",
    "        EC.element_to_be_clickable((By.Xpath,'//*[@id=\"pageContent\"]/div/form/div[4]/div/div/div/button'))\n",
    "        )\n",
    "        send_notification.click()\n",
    "        say()"
   ]
  },
  {
   "cell_type": "code",
   "execution_count": 52,
   "id": "26bf5be6-c0e2-4290-8ef2-97dc23b56035",
   "metadata": {},
   "outputs": [],
   "source": [
    "def message(query):\n",
    "    ans = []\n",
    "    messagebox=driver.find_element(By.XPATH,'//*[@id=\"userInput\"]')\n",
    "    \n",
    "    \n",
    "    for q in query:\n",
    "        messagebox.send_keys(q)\n",
    "        messagebox.send_keys(Keys.RETURN)\n",
    "        chat_reply=WebDriverWait(driver,10).until(\n",
    "        EC.element_to_be_clickable((By.XPATH,'//*[@id=\"app\"]/main/div[3]/div/div/div[2]/div[2]/div[2]/div/p/span | //*[@id=\"app\"]/main/div[3]/div/div/div[2]/div/div[2]/div/p/span'))\n",
    "        )\n",
    "        time.sleep(4)\n",
    "        ans.append(chat_reply.text)\n",
    "    \n",
    "    return ans\n",
    "    \n",
    "    "
   ]
  },
  {
   "cell_type": "code",
   "execution_count": null,
   "id": "cac0dc72-a2c3-4b80-941b-765eb9a7ca63",
   "metadata": {},
   "outputs": [],
   "source": [
    "query = [\n",
    "    \"What is the meaning of life?\",\n",
    "    \"How does photosynthesis work?\",\n",
    "    \"What are the benefits of regular exercise?\",\n",
    "    \"What is the capital of France?\",\n",
    "    \"What are the causes of climate change?\"\n",
    "]\n"
   ]
  },
  {
   "cell_type": "code",
   "execution_count": 92,
   "id": "7641471c-da79-4b87-98bb-46f4f4a81d0b",
   "metadata": {},
   "outputs": [],
   "source": [
    "open_browser()\n",
    "get_website(\"https://copilot.microsoft.com/\")\n",
    "signin(9886449568)\n",
    "say()\n",
    "ans_m=message(query)"
   ]
  },
  {
   "cell_type": "code",
   "execution_count": 90,
   "id": "7a9a3f01-6b29-4da5-836a-453ecac85198",
   "metadata": {},
   "outputs": [],
   "source": [
    "driver.quit()"
   ]
  },
  {
   "cell_type": "code",
   "execution_count": 41,
   "id": "ccfbff9b-0369-458e-a5fa-5c2b68365fa6",
   "metadata": {},
   "outputs": [],
   "source": [
    "say()"
   ]
  },
  {
   "cell_type": "code",
   "execution_count": 43,
   "id": "a0585091-4f30-4660-a3ad-f44c6fb5e3d0",
   "metadata": {},
   "outputs": [],
   "source": []
  },
  {
   "cell_type": "code",
   "execution_count": 101,
   "id": "614e1461-1218-42e1-a625-fc3015293f6a",
   "metadata": {},
   "outputs": [],
   "source": [
    "def messagebox():\n",
    "    parent1 = driver.find_element(By.CSS_SELECTOR, '#b_sydConvCont > cib-serp')\n",
    "    s1 = driver.execute_script(\"return arguments[0].shadowRoot\", parent1)\n",
    "    parent2 = s1.find_element(By.CSS_SELECTOR, 'cib-action-bar')\n",
    "    s2 = driver.execute_script(\"return arguments[0].shadowRoot\", parent2)\n",
    "    parent3 = s2.find_element(By.CSS_SELECTOR, 'div.main-container')\n",
    "    search_box = parent3.find_element(By.CSS_SELECTOR, 'cib-text-input')\n",
    "    s3 = driver.execute_script(\"return arguments[0].shadowRoot\", search_box)\n",
    "    global textbox\n",
    "    textbox = s3.find_element(By.CSS_SELECTOR, '#searchbox')\n",
    "    textbox.click()\n",
    "    #textbox.send_keys(\"Who is the father of india\")\n",
    "    return textbox"
   ]
  },
  {
   "cell_type": "code",
   "execution_count": 102,
   "id": "3d539f7c-e39d-419e-af19-f4097658b6ab",
   "metadata": {},
   "outputs": [],
   "source": [
    "tb=messagebox()"
   ]
  },
  {
   "cell_type": "code",
   "execution_count": 105,
   "id": "1420a4b7-10a9-4f5c-a36e-0c1d8ae88ad2",
   "metadata": {},
   "outputs": [],
   "source": [
    "tb.send_keys(\"Who is the father of india\")\n",
    "tb.send_keys(Keys.RETURN)\n"
   ]
  },
  {
   "cell_type": "code",
   "execution_count": null,
   "id": "af43d806-efbb-498b-be9f-4843fabe3c2e",
   "metadata": {},
   "outputs": [],
   "source": [
    "ans=driver.find_element(By.XPATH,'//*[@id=\"entity-image-top\"]')"
   ]
  },
  {
   "cell_type": "code",
   "execution_count": null,
   "id": "3860af13-dc82-4898-9450-ce712f0d93c1",
   "metadata": {},
   "outputs": [],
   "source": []
  }
 ],
 "metadata": {
  "kernelspec": {
   "display_name": "Python 3 (ipykernel)",
   "language": "python",
   "name": "python3"
  },
  "language_info": {
   "codemirror_mode": {
    "name": "ipython",
    "version": 3
   },
   "file_extension": ".py",
   "mimetype": "text/x-python",
   "name": "python",
   "nbconvert_exporter": "python",
   "pygments_lexer": "ipython3",
   "version": "3.12.3"
  }
 },
 "nbformat": 4,
 "nbformat_minor": 5
}
